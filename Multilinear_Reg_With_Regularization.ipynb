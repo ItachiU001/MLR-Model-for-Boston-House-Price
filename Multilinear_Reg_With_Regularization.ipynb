{
 "cells": [
  {
   "cell_type": "markdown",
   "id": "401667f8",
   "metadata": {},
   "source": [
    "# Multilinear Regression "
   ]
  },
  {
   "cell_type": "markdown",
   "id": "a91b90e3",
   "metadata": {},
   "source": [
    "## The multilinear regression model is used to estimate the house price in the boston based n the given features\n",
    "\n",
    "    \n",
    "Each record in the database describes a Boston suburb or town. The data was drawn from the Boston Standard Metropolitan Statistical Area (SMSA) in 1970. The attributes are deﬁned as follows (taken from the UCI Machine Learning Repository1)    \n",
    "\n",
    "Boston house prices dataset\n",
    "---------------------------\n",
    "\n",
    "**Data Set Characteristics:**  \n",
    "\n",
    "    :Number of Instances: 506 \n",
    "\n",
    "    :Number of Attributes: 13 numeric/categorical predictive. Median Value (attribute 14) is usually the target.\n",
    "\n",
    "    :Attribute Information (in order):\n",
    "        - CRIM     per capita crime rate by town\n",
    "        - ZN       proportion of residential land zoned for lots over 25,000 sq.ft.\n",
    "        - INDUS    proportion of non-retail business acres per town\n",
    "        - CHAS     Charles River dummy variable (= 1 if tract bounds river; 0 otherwise)\n",
    "        - NOX      nitric oxides concentration (parts per 10 million)\n",
    "        - RM       average number of rooms per dwelling\n",
    "        - AGE      proportion of owner-occupied units built prior to 1940\n",
    "        - DIS      weighted distances to five Boston employment centres\n",
    "        - RAD      index of accessibility to radial highways\n",
    "        - TAX      full-value property-tax rate per $10,000\n",
    "        \n",
    "        - PTRATIO  pupil-teacher ratio by town\n",
    "        - B        1000(Bk - 0.63)^2 where Bk is the proportion of black people by town\n",
    "        - LSTAT    % lower status of the population\n",
    "        - MEDV     Median value of owner-occupied homes in $1000's\n",
    "        \n",
    "        \n",
    "### The dependent variable (target/output) for the model is median value (MEDV) and all the remaning are features "
   ]
  },
  {
   "cell_type": "markdown",
   "id": "fdac36bc",
   "metadata": {},
   "source": [
    "### Assumption of linear regression:\n",
    "\n",
    "    Linearity: The relationship between dependendent and independent variable must be linear\n",
    "\n",
    "    Homoscedasticity: The variance of residual is the same for any value of independent variable\n",
    "\n",
    "    Normality: Residual is normally distributed\n",
    "\n",
    "    No multicolinearity in the independent variables"
   ]
  },
  {
   "cell_type": "code",
   "execution_count": 18,
   "id": "8924ffa3",
   "metadata": {},
   "outputs": [],
   "source": [
    "# Import all the required model\n",
    "\n",
    "import pandas as pd\n",
    "import numpy as np\n",
    "import seaborn as sns\n",
    "import matplotlib.pyplot as plt\n",
    "import sklearn\n",
    "from sklearn.model_selection import train_test_split\n",
    "from sklearn.linear_model import LinearRegression\n",
    "from sklearn.metrics import r2_score\n",
    "import pickle as pk#Save the model in HDD\n",
    "from sklearn.metrics import mean_squared_error\n",
    "from math import sqrt\n",
    "from sklearn.preprocessing import StandardScaler \n",
    "from sklearn.metrics import r2_score"
   ]
  },
  {
   "cell_type": "markdown",
   "id": "8218ead2",
   "metadata": {},
   "source": [
    "## Load the dataset"
   ]
  },
  {
   "cell_type": "code",
   "execution_count": 29,
   "id": "1ef53e46",
   "metadata": {
    "scrolled": true
   },
   "outputs": [
    {
     "data": {
      "text/html": [
       "<div>\n",
       "<style scoped>\n",
       "    .dataframe tbody tr th:only-of-type {\n",
       "        vertical-align: middle;\n",
       "    }\n",
       "\n",
       "    .dataframe tbody tr th {\n",
       "        vertical-align: top;\n",
       "    }\n",
       "\n",
       "    .dataframe thead th {\n",
       "        text-align: right;\n",
       "    }\n",
       "</style>\n",
       "<table border=\"1\" class=\"dataframe\">\n",
       "  <thead>\n",
       "    <tr style=\"text-align: right;\">\n",
       "      <th></th>\n",
       "      <th>Unnamed: 0</th>\n",
       "      <th>crim</th>\n",
       "      <th>zn</th>\n",
       "      <th>indus</th>\n",
       "      <th>chas</th>\n",
       "      <th>nox</th>\n",
       "      <th>rm</th>\n",
       "      <th>age</th>\n",
       "      <th>dis</th>\n",
       "      <th>rad</th>\n",
       "      <th>tax</th>\n",
       "      <th>ptratio</th>\n",
       "      <th>black</th>\n",
       "      <th>lstat</th>\n",
       "      <th>medv</th>\n",
       "    </tr>\n",
       "  </thead>\n",
       "  <tbody>\n",
       "    <tr>\n",
       "      <th>0</th>\n",
       "      <td>1</td>\n",
       "      <td>0.00632</td>\n",
       "      <td>18.0</td>\n",
       "      <td>2.31</td>\n",
       "      <td>0</td>\n",
       "      <td>0.538</td>\n",
       "      <td>6.575</td>\n",
       "      <td>65.2</td>\n",
       "      <td>4.0900</td>\n",
       "      <td>1</td>\n",
       "      <td>296</td>\n",
       "      <td>15.3</td>\n",
       "      <td>396.90</td>\n",
       "      <td>4.98</td>\n",
       "      <td>24.0</td>\n",
       "    </tr>\n",
       "    <tr>\n",
       "      <th>1</th>\n",
       "      <td>2</td>\n",
       "      <td>0.02731</td>\n",
       "      <td>0.0</td>\n",
       "      <td>7.07</td>\n",
       "      <td>0</td>\n",
       "      <td>0.469</td>\n",
       "      <td>6.421</td>\n",
       "      <td>78.9</td>\n",
       "      <td>4.9671</td>\n",
       "      <td>2</td>\n",
       "      <td>242</td>\n",
       "      <td>17.8</td>\n",
       "      <td>396.90</td>\n",
       "      <td>9.14</td>\n",
       "      <td>21.6</td>\n",
       "    </tr>\n",
       "    <tr>\n",
       "      <th>2</th>\n",
       "      <td>3</td>\n",
       "      <td>0.02729</td>\n",
       "      <td>0.0</td>\n",
       "      <td>7.07</td>\n",
       "      <td>0</td>\n",
       "      <td>0.469</td>\n",
       "      <td>7.185</td>\n",
       "      <td>61.1</td>\n",
       "      <td>4.9671</td>\n",
       "      <td>2</td>\n",
       "      <td>242</td>\n",
       "      <td>17.8</td>\n",
       "      <td>392.83</td>\n",
       "      <td>4.03</td>\n",
       "      <td>34.7</td>\n",
       "    </tr>\n",
       "    <tr>\n",
       "      <th>3</th>\n",
       "      <td>4</td>\n",
       "      <td>0.03237</td>\n",
       "      <td>0.0</td>\n",
       "      <td>2.18</td>\n",
       "      <td>0</td>\n",
       "      <td>0.458</td>\n",
       "      <td>6.998</td>\n",
       "      <td>45.8</td>\n",
       "      <td>6.0622</td>\n",
       "      <td>3</td>\n",
       "      <td>222</td>\n",
       "      <td>18.7</td>\n",
       "      <td>394.63</td>\n",
       "      <td>2.94</td>\n",
       "      <td>33.4</td>\n",
       "    </tr>\n",
       "    <tr>\n",
       "      <th>4</th>\n",
       "      <td>5</td>\n",
       "      <td>0.06905</td>\n",
       "      <td>0.0</td>\n",
       "      <td>2.18</td>\n",
       "      <td>0</td>\n",
       "      <td>0.458</td>\n",
       "      <td>7.147</td>\n",
       "      <td>54.2</td>\n",
       "      <td>6.0622</td>\n",
       "      <td>3</td>\n",
       "      <td>222</td>\n",
       "      <td>18.7</td>\n",
       "      <td>396.90</td>\n",
       "      <td>5.33</td>\n",
       "      <td>36.2</td>\n",
       "    </tr>\n",
       "  </tbody>\n",
       "</table>\n",
       "</div>"
      ],
      "text/plain": [
       "   Unnamed: 0     crim    zn  indus  chas    nox     rm   age     dis  rad  \\\n",
       "0           1  0.00632  18.0   2.31     0  0.538  6.575  65.2  4.0900    1   \n",
       "1           2  0.02731   0.0   7.07     0  0.469  6.421  78.9  4.9671    2   \n",
       "2           3  0.02729   0.0   7.07     0  0.469  7.185  61.1  4.9671    2   \n",
       "3           4  0.03237   0.0   2.18     0  0.458  6.998  45.8  6.0622    3   \n",
       "4           5  0.06905   0.0   2.18     0  0.458  7.147  54.2  6.0622    3   \n",
       "\n",
       "   tax  ptratio   black  lstat  medv  \n",
       "0  296     15.3  396.90   4.98  24.0  \n",
       "1  242     17.8  396.90   9.14  21.6  \n",
       "2  242     17.8  392.83   4.03  34.7  \n",
       "3  222     18.7  394.63   2.94  33.4  \n",
       "4  222     18.7  396.90   5.33  36.2  "
      ]
     },
     "execution_count": 29,
     "metadata": {},
     "output_type": "execute_result"
    }
   ],
   "source": [
    "'''\n",
    "from sklearn import datasets boston = datasets.load_boston()\n",
    "features = pd.DataFrame(boston.data,columns=boston.feature_names)\n",
    "targets = boston.target'''\n",
    "\n",
    "'''\n",
    "data_url = \"http://lib.stat.cmu.edu/datasets/boston\"\n",
    "raw_df = pd.read_csv(data_url, sep=\"\\s+\", skiprows=22, header=None)\n",
    "data = np.hstack([raw_df.values[::2, :], raw_df.values[1::2, :2]])\n",
    "target = raw_df.values[1::2, 2]\n",
    "'''\n",
    "\n",
    "\n",
    "boston_df = pd.read_csv(\"Boston.csv\",sep=',')\n",
    "boston_df.head()\n"
   ]
  },
  {
   "cell_type": "markdown",
   "id": "24aab0ca",
   "metadata": {},
   "source": [
    "### Check the data information like column name, datatypes total entries in the dataset and data cleaning"
   ]
  },
  {
   "cell_type": "code",
   "execution_count": 30,
   "id": "9c3925d0",
   "metadata": {
    "scrolled": true
   },
   "outputs": [
    {
     "name": "stdout",
     "output_type": "stream",
     "text": [
      "<class 'pandas.core.frame.DataFrame'>\n",
      "RangeIndex: 506 entries, 0 to 505\n",
      "Data columns (total 15 columns):\n",
      " #   Column      Non-Null Count  Dtype  \n",
      "---  ------      --------------  -----  \n",
      " 0   Unnamed: 0  506 non-null    int64  \n",
      " 1   crim        506 non-null    float64\n",
      " 2   zn          506 non-null    float64\n",
      " 3   indus       506 non-null    float64\n",
      " 4   chas        506 non-null    int64  \n",
      " 5   nox         506 non-null    float64\n",
      " 6   rm          506 non-null    float64\n",
      " 7   age         506 non-null    float64\n",
      " 8   dis         506 non-null    float64\n",
      " 9   rad         506 non-null    int64  \n",
      " 10  tax         506 non-null    int64  \n",
      " 11  ptratio     506 non-null    float64\n",
      " 12  black       506 non-null    float64\n",
      " 13  lstat       506 non-null    float64\n",
      " 14  medv        506 non-null    float64\n",
      "dtypes: float64(11), int64(4)\n",
      "memory usage: 59.4 KB\n"
     ]
    }
   ],
   "source": [
    "boston_df.info() # Dataset before data cleaning\n"
   ]
  },
  {
   "cell_type": "code",
   "execution_count": 31,
   "id": "daa2e351",
   "metadata": {},
   "outputs": [
    {
     "data": {
      "text/plain": [
       "Unnamed: 0    0\n",
       "crim          0\n",
       "zn            0\n",
       "indus         0\n",
       "chas          0\n",
       "nox           0\n",
       "rm            0\n",
       "age           0\n",
       "dis           0\n",
       "rad           0\n",
       "tax           0\n",
       "ptratio       0\n",
       "black         0\n",
       "lstat         0\n",
       "medv          0\n",
       "dtype: int64"
      ]
     },
     "execution_count": 31,
     "metadata": {},
     "output_type": "execute_result"
    }
   ],
   "source": [
    "boston_df.isnull().sum()  # no null values are in dataset"
   ]
  },
  {
   "cell_type": "code",
   "execution_count": 47,
   "id": "77717388",
   "metadata": {},
   "outputs": [
    {
     "data": {
      "text/plain": [
       "0"
      ]
     },
     "execution_count": 47,
     "metadata": {},
     "output_type": "execute_result"
    }
   ],
   "source": [
    "boston_df.duplicated().sum() # no duplicate entries in the dataset"
   ]
  },
  {
   "cell_type": "markdown",
   "id": "89705158",
   "metadata": {},
   "source": [
    "### Dataset contains no null values in the columns, so no need for any data imputation required\n",
    "\n",
    "### Unnamed: 0 column is not required for the analysis so the column is drop from the dataset \n",
    "\n"
   ]
  },
  {
   "cell_type": "code",
   "execution_count": 32,
   "id": "9fb2416d",
   "metadata": {},
   "outputs": [],
   "source": [
    "del boston_df[\"Unnamed: 0\"]"
   ]
  },
  {
   "cell_type": "code",
   "execution_count": 33,
   "id": "dfa41115",
   "metadata": {
    "scrolled": true
   },
   "outputs": [
    {
     "data": {
      "text/html": [
       "<div>\n",
       "<style scoped>\n",
       "    .dataframe tbody tr th:only-of-type {\n",
       "        vertical-align: middle;\n",
       "    }\n",
       "\n",
       "    .dataframe tbody tr th {\n",
       "        vertical-align: top;\n",
       "    }\n",
       "\n",
       "    .dataframe thead th {\n",
       "        text-align: right;\n",
       "    }\n",
       "</style>\n",
       "<table border=\"1\" class=\"dataframe\">\n",
       "  <thead>\n",
       "    <tr style=\"text-align: right;\">\n",
       "      <th></th>\n",
       "      <th>crim</th>\n",
       "      <th>zn</th>\n",
       "      <th>indus</th>\n",
       "      <th>chas</th>\n",
       "      <th>nox</th>\n",
       "      <th>rm</th>\n",
       "      <th>age</th>\n",
       "      <th>dis</th>\n",
       "      <th>rad</th>\n",
       "      <th>tax</th>\n",
       "      <th>ptratio</th>\n",
       "      <th>black</th>\n",
       "      <th>lstat</th>\n",
       "      <th>medv</th>\n",
       "    </tr>\n",
       "  </thead>\n",
       "  <tbody>\n",
       "    <tr>\n",
       "      <th>0</th>\n",
       "      <td>0.00632</td>\n",
       "      <td>18.0</td>\n",
       "      <td>2.31</td>\n",
       "      <td>0</td>\n",
       "      <td>0.538</td>\n",
       "      <td>6.575</td>\n",
       "      <td>65.2</td>\n",
       "      <td>4.0900</td>\n",
       "      <td>1</td>\n",
       "      <td>296</td>\n",
       "      <td>15.3</td>\n",
       "      <td>396.90</td>\n",
       "      <td>4.98</td>\n",
       "      <td>24.0</td>\n",
       "    </tr>\n",
       "    <tr>\n",
       "      <th>1</th>\n",
       "      <td>0.02731</td>\n",
       "      <td>0.0</td>\n",
       "      <td>7.07</td>\n",
       "      <td>0</td>\n",
       "      <td>0.469</td>\n",
       "      <td>6.421</td>\n",
       "      <td>78.9</td>\n",
       "      <td>4.9671</td>\n",
       "      <td>2</td>\n",
       "      <td>242</td>\n",
       "      <td>17.8</td>\n",
       "      <td>396.90</td>\n",
       "      <td>9.14</td>\n",
       "      <td>21.6</td>\n",
       "    </tr>\n",
       "    <tr>\n",
       "      <th>2</th>\n",
       "      <td>0.02729</td>\n",
       "      <td>0.0</td>\n",
       "      <td>7.07</td>\n",
       "      <td>0</td>\n",
       "      <td>0.469</td>\n",
       "      <td>7.185</td>\n",
       "      <td>61.1</td>\n",
       "      <td>4.9671</td>\n",
       "      <td>2</td>\n",
       "      <td>242</td>\n",
       "      <td>17.8</td>\n",
       "      <td>392.83</td>\n",
       "      <td>4.03</td>\n",
       "      <td>34.7</td>\n",
       "    </tr>\n",
       "    <tr>\n",
       "      <th>3</th>\n",
       "      <td>0.03237</td>\n",
       "      <td>0.0</td>\n",
       "      <td>2.18</td>\n",
       "      <td>0</td>\n",
       "      <td>0.458</td>\n",
       "      <td>6.998</td>\n",
       "      <td>45.8</td>\n",
       "      <td>6.0622</td>\n",
       "      <td>3</td>\n",
       "      <td>222</td>\n",
       "      <td>18.7</td>\n",
       "      <td>394.63</td>\n",
       "      <td>2.94</td>\n",
       "      <td>33.4</td>\n",
       "    </tr>\n",
       "    <tr>\n",
       "      <th>4</th>\n",
       "      <td>0.06905</td>\n",
       "      <td>0.0</td>\n",
       "      <td>2.18</td>\n",
       "      <td>0</td>\n",
       "      <td>0.458</td>\n",
       "      <td>7.147</td>\n",
       "      <td>54.2</td>\n",
       "      <td>6.0622</td>\n",
       "      <td>3</td>\n",
       "      <td>222</td>\n",
       "      <td>18.7</td>\n",
       "      <td>396.90</td>\n",
       "      <td>5.33</td>\n",
       "      <td>36.2</td>\n",
       "    </tr>\n",
       "  </tbody>\n",
       "</table>\n",
       "</div>"
      ],
      "text/plain": [
       "      crim    zn  indus  chas    nox     rm   age     dis  rad  tax  ptratio  \\\n",
       "0  0.00632  18.0   2.31     0  0.538  6.575  65.2  4.0900    1  296     15.3   \n",
       "1  0.02731   0.0   7.07     0  0.469  6.421  78.9  4.9671    2  242     17.8   \n",
       "2  0.02729   0.0   7.07     0  0.469  7.185  61.1  4.9671    2  242     17.8   \n",
       "3  0.03237   0.0   2.18     0  0.458  6.998  45.8  6.0622    3  222     18.7   \n",
       "4  0.06905   0.0   2.18     0  0.458  7.147  54.2  6.0622    3  222     18.7   \n",
       "\n",
       "    black  lstat  medv  \n",
       "0  396.90   4.98  24.0  \n",
       "1  396.90   9.14  21.6  \n",
       "2  392.83   4.03  34.7  \n",
       "3  394.63   2.94  33.4  \n",
       "4  396.90   5.33  36.2  "
      ]
     },
     "execution_count": 33,
     "metadata": {},
     "output_type": "execute_result"
    }
   ],
   "source": [
    "boston_df.head() # Dataset after data cleaning"
   ]
  },
  {
   "cell_type": "code",
   "execution_count": 34,
   "id": "f8052349",
   "metadata": {
    "scrolled": false
   },
   "outputs": [
    {
     "name": "stdout",
     "output_type": "stream",
     "text": [
      "<class 'pandas.core.frame.DataFrame'>\n",
      "RangeIndex: 506 entries, 0 to 505\n",
      "Data columns (total 14 columns):\n",
      " #   Column   Non-Null Count  Dtype  \n",
      "---  ------   --------------  -----  \n",
      " 0   crim     506 non-null    float64\n",
      " 1   zn       506 non-null    float64\n",
      " 2   indus    506 non-null    float64\n",
      " 3   chas     506 non-null    int64  \n",
      " 4   nox      506 non-null    float64\n",
      " 5   rm       506 non-null    float64\n",
      " 6   age      506 non-null    float64\n",
      " 7   dis      506 non-null    float64\n",
      " 8   rad      506 non-null    int64  \n",
      " 9   tax      506 non-null    int64  \n",
      " 10  ptratio  506 non-null    float64\n",
      " 11  black    506 non-null    float64\n",
      " 12  lstat    506 non-null    float64\n",
      " 13  medv     506 non-null    float64\n",
      "dtypes: float64(11), int64(3)\n",
      "memory usage: 55.5 KB\n"
     ]
    }
   ],
   "source": [
    "boston_df.info() # Dataset after data cleaning"
   ]
  },
  {
   "cell_type": "markdown",
   "id": "3eeb6b9c",
   "metadata": {},
   "source": [
    "### Overall dataset description "
   ]
  },
  {
   "cell_type": "code",
   "execution_count": 65,
   "id": "3762d361",
   "metadata": {},
   "outputs": [
    {
     "data": {
      "text/html": [
       "<div>\n",
       "<style scoped>\n",
       "    .dataframe tbody tr th:only-of-type {\n",
       "        vertical-align: middle;\n",
       "    }\n",
       "\n",
       "    .dataframe tbody tr th {\n",
       "        vertical-align: top;\n",
       "    }\n",
       "\n",
       "    .dataframe thead th {\n",
       "        text-align: right;\n",
       "    }\n",
       "</style>\n",
       "<table border=\"1\" class=\"dataframe\">\n",
       "  <thead>\n",
       "    <tr style=\"text-align: right;\">\n",
       "      <th></th>\n",
       "      <th>crim</th>\n",
       "      <th>zn</th>\n",
       "      <th>indus</th>\n",
       "      <th>chas</th>\n",
       "      <th>nox</th>\n",
       "      <th>rm</th>\n",
       "      <th>age</th>\n",
       "      <th>dis</th>\n",
       "      <th>rad</th>\n",
       "      <th>tax</th>\n",
       "      <th>ptratio</th>\n",
       "      <th>black</th>\n",
       "      <th>lstat</th>\n",
       "      <th>medv</th>\n",
       "    </tr>\n",
       "  </thead>\n",
       "  <tbody>\n",
       "    <tr>\n",
       "      <th>count</th>\n",
       "      <td>506.000000</td>\n",
       "      <td>506.000000</td>\n",
       "      <td>506.000000</td>\n",
       "      <td>506.000000</td>\n",
       "      <td>506.000000</td>\n",
       "      <td>506.000000</td>\n",
       "      <td>506.000000</td>\n",
       "      <td>506.000000</td>\n",
       "      <td>506.000000</td>\n",
       "      <td>506.000000</td>\n",
       "      <td>506.000000</td>\n",
       "      <td>506.000000</td>\n",
       "      <td>506.000000</td>\n",
       "      <td>506.000000</td>\n",
       "    </tr>\n",
       "    <tr>\n",
       "      <th>mean</th>\n",
       "      <td>3.613524</td>\n",
       "      <td>11.363636</td>\n",
       "      <td>11.136779</td>\n",
       "      <td>0.069170</td>\n",
       "      <td>0.554695</td>\n",
       "      <td>6.284634</td>\n",
       "      <td>68.574901</td>\n",
       "      <td>3.795043</td>\n",
       "      <td>9.549407</td>\n",
       "      <td>408.237154</td>\n",
       "      <td>18.455534</td>\n",
       "      <td>356.674032</td>\n",
       "      <td>12.653063</td>\n",
       "      <td>22.532806</td>\n",
       "    </tr>\n",
       "    <tr>\n",
       "      <th>std</th>\n",
       "      <td>8.601545</td>\n",
       "      <td>23.322453</td>\n",
       "      <td>6.860353</td>\n",
       "      <td>0.253994</td>\n",
       "      <td>0.115878</td>\n",
       "      <td>0.702617</td>\n",
       "      <td>28.148861</td>\n",
       "      <td>2.105710</td>\n",
       "      <td>8.707259</td>\n",
       "      <td>168.537116</td>\n",
       "      <td>2.164946</td>\n",
       "      <td>91.294864</td>\n",
       "      <td>7.141062</td>\n",
       "      <td>9.197104</td>\n",
       "    </tr>\n",
       "    <tr>\n",
       "      <th>min</th>\n",
       "      <td>0.006320</td>\n",
       "      <td>0.000000</td>\n",
       "      <td>0.460000</td>\n",
       "      <td>0.000000</td>\n",
       "      <td>0.385000</td>\n",
       "      <td>3.561000</td>\n",
       "      <td>2.900000</td>\n",
       "      <td>1.129600</td>\n",
       "      <td>1.000000</td>\n",
       "      <td>187.000000</td>\n",
       "      <td>12.600000</td>\n",
       "      <td>0.320000</td>\n",
       "      <td>1.730000</td>\n",
       "      <td>5.000000</td>\n",
       "    </tr>\n",
       "    <tr>\n",
       "      <th>25%</th>\n",
       "      <td>0.082045</td>\n",
       "      <td>0.000000</td>\n",
       "      <td>5.190000</td>\n",
       "      <td>0.000000</td>\n",
       "      <td>0.449000</td>\n",
       "      <td>5.885500</td>\n",
       "      <td>45.025000</td>\n",
       "      <td>2.100175</td>\n",
       "      <td>4.000000</td>\n",
       "      <td>279.000000</td>\n",
       "      <td>17.400000</td>\n",
       "      <td>375.377500</td>\n",
       "      <td>6.950000</td>\n",
       "      <td>17.025000</td>\n",
       "    </tr>\n",
       "    <tr>\n",
       "      <th>50%</th>\n",
       "      <td>0.256510</td>\n",
       "      <td>0.000000</td>\n",
       "      <td>9.690000</td>\n",
       "      <td>0.000000</td>\n",
       "      <td>0.538000</td>\n",
       "      <td>6.208500</td>\n",
       "      <td>77.500000</td>\n",
       "      <td>3.207450</td>\n",
       "      <td>5.000000</td>\n",
       "      <td>330.000000</td>\n",
       "      <td>19.050000</td>\n",
       "      <td>391.440000</td>\n",
       "      <td>11.360000</td>\n",
       "      <td>21.200000</td>\n",
       "    </tr>\n",
       "    <tr>\n",
       "      <th>75%</th>\n",
       "      <td>3.677083</td>\n",
       "      <td>12.500000</td>\n",
       "      <td>18.100000</td>\n",
       "      <td>0.000000</td>\n",
       "      <td>0.624000</td>\n",
       "      <td>6.623500</td>\n",
       "      <td>94.075000</td>\n",
       "      <td>5.188425</td>\n",
       "      <td>24.000000</td>\n",
       "      <td>666.000000</td>\n",
       "      <td>20.200000</td>\n",
       "      <td>396.225000</td>\n",
       "      <td>16.955000</td>\n",
       "      <td>25.000000</td>\n",
       "    </tr>\n",
       "    <tr>\n",
       "      <th>max</th>\n",
       "      <td>88.976200</td>\n",
       "      <td>100.000000</td>\n",
       "      <td>27.740000</td>\n",
       "      <td>1.000000</td>\n",
       "      <td>0.871000</td>\n",
       "      <td>8.780000</td>\n",
       "      <td>100.000000</td>\n",
       "      <td>12.126500</td>\n",
       "      <td>24.000000</td>\n",
       "      <td>711.000000</td>\n",
       "      <td>22.000000</td>\n",
       "      <td>396.900000</td>\n",
       "      <td>37.970000</td>\n",
       "      <td>50.000000</td>\n",
       "    </tr>\n",
       "  </tbody>\n",
       "</table>\n",
       "</div>"
      ],
      "text/plain": [
       "             crim          zn       indus        chas         nox          rm  \\\n",
       "count  506.000000  506.000000  506.000000  506.000000  506.000000  506.000000   \n",
       "mean     3.613524   11.363636   11.136779    0.069170    0.554695    6.284634   \n",
       "std      8.601545   23.322453    6.860353    0.253994    0.115878    0.702617   \n",
       "min      0.006320    0.000000    0.460000    0.000000    0.385000    3.561000   \n",
       "25%      0.082045    0.000000    5.190000    0.000000    0.449000    5.885500   \n",
       "50%      0.256510    0.000000    9.690000    0.000000    0.538000    6.208500   \n",
       "75%      3.677083   12.500000   18.100000    0.000000    0.624000    6.623500   \n",
       "max     88.976200  100.000000   27.740000    1.000000    0.871000    8.780000   \n",
       "\n",
       "              age         dis         rad         tax     ptratio       black  \\\n",
       "count  506.000000  506.000000  506.000000  506.000000  506.000000  506.000000   \n",
       "mean    68.574901    3.795043    9.549407  408.237154   18.455534  356.674032   \n",
       "std     28.148861    2.105710    8.707259  168.537116    2.164946   91.294864   \n",
       "min      2.900000    1.129600    1.000000  187.000000   12.600000    0.320000   \n",
       "25%     45.025000    2.100175    4.000000  279.000000   17.400000  375.377500   \n",
       "50%     77.500000    3.207450    5.000000  330.000000   19.050000  391.440000   \n",
       "75%     94.075000    5.188425   24.000000  666.000000   20.200000  396.225000   \n",
       "max    100.000000   12.126500   24.000000  711.000000   22.000000  396.900000   \n",
       "\n",
       "            lstat        medv  \n",
       "count  506.000000  506.000000  \n",
       "mean    12.653063   22.532806  \n",
       "std      7.141062    9.197104  \n",
       "min      1.730000    5.000000  \n",
       "25%      6.950000   17.025000  \n",
       "50%     11.360000   21.200000  \n",
       "75%     16.955000   25.000000  \n",
       "max     37.970000   50.000000  "
      ]
     },
     "execution_count": 65,
     "metadata": {},
     "output_type": "execute_result"
    }
   ],
   "source": [
    "boston_df.describe()"
   ]
  },
  {
   "cell_type": "markdown",
   "id": "e402961c",
   "metadata": {},
   "source": [
    "## Check the linearity & correlation between dependent and independent variables\n",
    "\n",
    "   1. The linear regression model is used only when there is linear replationship between dependent and independent           variables\n",
    "   2. The linear regression model is sensetive to the outliers and the data units\n",
    "   "
   ]
  },
  {
   "cell_type": "markdown",
   "id": "2ae4f7a5",
   "metadata": {},
   "source": [
    "### Data distribution for every columns"
   ]
  },
  {
   "cell_type": "code",
   "execution_count": 48,
   "id": "62313078",
   "metadata": {
    "scrolled": true
   },
   "outputs": [
    {
     "data": {
      "text/plain": [
       "array([[<AxesSubplot:title={'center':'crim'}>,\n",
       "        <AxesSubplot:title={'center':'zn'}>,\n",
       "        <AxesSubplot:title={'center':'indus'}>,\n",
       "        <AxesSubplot:title={'center':'chas'}>],\n",
       "       [<AxesSubplot:title={'center':'nox'}>,\n",
       "        <AxesSubplot:title={'center':'rm'}>,\n",
       "        <AxesSubplot:title={'center':'age'}>,\n",
       "        <AxesSubplot:title={'center':'dis'}>],\n",
       "       [<AxesSubplot:title={'center':'rad'}>,\n",
       "        <AxesSubplot:title={'center':'tax'}>,\n",
       "        <AxesSubplot:title={'center':'ptratio'}>,\n",
       "        <AxesSubplot:title={'center':'black'}>],\n",
       "       [<AxesSubplot:title={'center':'lstat'}>,\n",
       "        <AxesSubplot:title={'center':'medv'}>, <AxesSubplot:>,\n",
       "        <AxesSubplot:>]], dtype=object)"
      ]
     },
     "execution_count": 48,
     "metadata": {},
     "output_type": "execute_result"
    },
    {
     "data": {
      "image/png": "[encoded data removed]",
      "text/plain": [
       "<Figure size 1152x1440 with 16 Axes>"
      ]
     },
     "metadata": {
      "needs_background": "light"
     },
     "output_type": "display_data"
    }
   ],
   "source": [
    "# let's see how data is distributed for every column\n",
    "boston_df.hist(figsize=(16, 20),xlabelsize=12, ylabelsize=12,grid=False)"
   ]
  },
  {
   "cell_type": "code",
   "execution_count": 58,
   "id": "74107794",
   "metadata": {},
   "outputs": [
    {
     "name": "stderr",
     "output_type": "stream",
     "text": [
      "C:\\Users\\dell\\anaconda3\\envs\\PY38\\lib\\site-packages\\seaborn\\distributions.py:2619: FutureWarning: `distplot` is a deprecated function and will be removed in a future version. Please adapt your code to use either `displot` (a figure-level function with similar flexibility) or `histplot` (an axes-level function for histograms).\n",
      "  warnings.warn(msg, FutureWarning)\n"
     ]
    },
    {
     "data": {
      "text/plain": [
       "<AxesSubplot:xlabel='medv', ylabel='Density'>"
      ]
     },
     "execution_count": 58,
     "metadata": {},
     "output_type": "execute_result"
    },
    {
     "data": {
      "image/png": "[encoded data removed]",
      "text/plain": [
       "<Figure size 432x288 with 1 Axes>"
      ]
     },
     "metadata": {
      "needs_background": "light"
     },
     "output_type": "display_data"
    }
   ],
   "source": [
    "sns.distplot(boston_df[\"medv\"])  # target\\independent variable distribution "
   ]
  },
  {
   "cell_type": "markdown",
   "id": "9b4ea572",
   "metadata": {},
   "source": [
    "### Data correlation for every columns"
   ]
  },
  {
   "cell_type": "code",
   "execution_count": 63,
   "id": "a9a0a11d",
   "metadata": {
    "scrolled": true
   },
   "outputs": [
    {
     "data": {
      "text/plain": [
       "<AxesSubplot:>"
      ]
     },
     "execution_count": 63,
     "metadata": {},
     "output_type": "execute_result"
    },
    {
     "data": {
      "image/png": "[encoded data removed]",
      "text/plain": [
       "<Figure size 1440x720 with 2 Axes>"
      ]
     },
     "metadata": {
      "needs_background": "light"
     },
     "output_type": "display_data"
    }
   ],
   "source": [
    "cor=boston_df.corr()\n",
    "plt.figure(figsize=(20,10))\n",
    "sns.heatmap(cor,annot=True)"
   ]
  },
  {
   "cell_type": "code",
   "execution_count": 67,
   "id": "3dd06fc2",
   "metadata": {
    "scrolled": true
   },
   "outputs": [
    {
     "data": {
      "text/plain": [
       "crim      -0.388305\n",
       "zn         0.360445\n",
       "indus     -0.483725\n",
       "chas       0.175260\n",
       "nox       -0.427321\n",
       "rm         0.695360\n",
       "age       -0.376955\n",
       "dis        0.249929\n",
       "rad       -0.381626\n",
       "tax       -0.468536\n",
       "ptratio   -0.507787\n",
       "black      0.333461\n",
       "lstat     -0.737663\n",
       "Name: medv, dtype: float64"
      ]
     },
     "execution_count": 67,
     "metadata": {},
     "output_type": "execute_result"
    }
   ],
   "source": [
    "boston_df.corr()['medv'][:-1] # correlation with the dependent variable"
   ]
  },
  {
   "cell_type": "markdown",
   "id": "a8727529",
   "metadata": {},
   "source": [
    "## Divide the data into dependent and independent variables"
   ]
  },
  {
   "cell_type": "code",
   "execution_count": 72,
   "id": "6350a157",
   "metadata": {},
   "outputs": [],
   "source": [
    "y = boston_df['medv'] # Dependent variable-- medv\n",
    "x =boston_df.drop(columns =['medv']) # Independent variable-- all columns except medv"
   ]
  },
  {
   "cell_type": "code",
   "execution_count": 73,
   "id": "2aff673b",
   "metadata": {},
   "outputs": [
    {
     "data": {
      "text/plain": [
       "(506, 13)"
      ]
     },
     "execution_count": 73,
     "metadata": {},
     "output_type": "execute_result"
    }
   ],
   "source": [
    "x.shape # check the size of Independent variable"
   ]
  },
  {
   "cell_type": "code",
   "execution_count": 74,
   "id": "6adc0888",
   "metadata": {
    "scrolled": false
   },
   "outputs": [
    {
     "data": {
      "text/plain": [
       "(506,)"
      ]
     },
     "execution_count": 74,
     "metadata": {},
     "output_type": "execute_result"
    }
   ],
   "source": [
    "y.shape # check the size of dependent variable"
   ]
  },
  {
   "cell_type": "markdown",
   "id": "deb885ac",
   "metadata": {},
   "source": [
    "### Check the relationship between dependent and independent variables"
   ]
  },
  {
   "cell_type": "code",
   "execution_count": 76,
   "id": "ab6489d6",
   "metadata": {
    "scrolled": true
   },
   "outputs": [
    {
     "data": {
      "image/png": "[encoded data removed]",
      "text/plain": [
       "<Figure size 1440x2160 with 13 Axes>"
      ]
     },
     "metadata": {},
     "output_type": "display_data"
    }
   ],
   "source": [
    "plt.figure(figsize=(20,30), facecolor='white')\n",
    "plotnumber = 1\n",
    "\n",
    "for column in x:\n",
    "    if plotnumber<=13:\n",
    "        ax = plt.subplot(5,3,plotnumber)\n",
    "        plt.scatter(x[column],y)\n",
    "        plt.xlabel(column,fontsize=20)\n",
    "        plt.ylabel('MEDV',fontsize=20)\n",
    "    plotnumber+=1\n",
    "plt.tight_layout()"
   ]
  },
  {
   "cell_type": "code",
   "execution_count": 79,
   "id": "178f0be4",
   "metadata": {},
   "outputs": [],
   "source": [
    "#fig, ax = plt.subplots(round(len(boston_df.columns) / 3), 3, figsize = (18, 12))\n",
    "#for i, ax in enumerate(fig.axes):\n",
    "#    if i < len(boston_df.columns) - 1:\n",
    "#        sns.regplot(x=boston_df.columns[i],y='medv',data=boston_df[boston_df.columns], ax=ax)"
   ]
  },
  {
   "cell_type": "markdown",
   "id": "ae46ec02",
   "metadata": {},
   "source": [
    "### Due to multivariate independent variable, reshaping is not required in case of multilinear regression \n",
    "### lstat- shows negative relationship and rm- shows positive relationship with the medv\n",
    "### Most of the features/independent variables shows negative correlation with the target/dependent variable"
   ]
  },
  {
   "cell_type": "markdown",
   "id": "8444b081",
   "metadata": {},
   "source": [
    "## Data Standardization \n",
    "\n",
    "    1. The dataset contains different columns with different data units\n",
    "    2. In multilinear regression analysis, we required all the feature data in the same unit, so we are going to apply         \n",
    "       standardization technique to the dataset i.e. for all the independent variables "
   ]
  },
  {
   "cell_type": "code",
   "execution_count": 82,
   "id": "f92baef5",
   "metadata": {},
   "outputs": [
    {
     "data": {
      "text/plain": [
       "array([[-0.41978194,  0.28482986, -1.2879095 , ..., -1.45900038,\n",
       "         0.44105193, -1.0755623 ],\n",
       "       [-0.41733926, -0.48772236, -0.59338101, ..., -0.30309415,\n",
       "         0.44105193, -0.49243937],\n",
       "       [-0.41734159, -0.48772236, -0.59338101, ..., -0.30309415,\n",
       "         0.39642699, -1.2087274 ],\n",
       "       ...,\n",
       "       [-0.41344658, -0.48772236,  0.11573841, ...,  1.17646583,\n",
       "         0.44105193, -0.98304761],\n",
       "       [-0.40776407, -0.48772236,  0.11573841, ...,  1.17646583,\n",
       "         0.4032249 , -0.86530163],\n",
       "       [-0.41500016, -0.48772236,  0.11573841, ...,  1.17646583,\n",
       "         0.44105193, -0.66905833]])"
      ]
     },
     "execution_count": 82,
     "metadata": {},
     "output_type": "execute_result"
    }
   ],
   "source": [
    "scaler =StandardScaler() # Standardization library-- uses standard distribution-- mean=0; std=1\n",
    "x_scaled = scaler.fit_transform(x) # transform all the feature value  \n",
    "x_scaled"
   ]
  },
  {
   "cell_type": "markdown",
   "id": "a8950805",
   "metadata": {},
   "source": [
    "## Divide the dataset into training and testing dataset "
   ]
  },
  {
   "cell_type": "code",
   "execution_count": 83,
   "id": "bbc7d1df",
   "metadata": {},
   "outputs": [],
   "source": [
    "x_train,x_test,y_train,y_test = train_test_split(x_scaled,y,test_size = 0.25,random_state=355)"
   ]
  },
  {
   "cell_type": "code",
   "execution_count": 91,
   "id": "2bf91082",
   "metadata": {},
   "outputs": [],
   "source": [
    "#x_train"
   ]
  },
  {
   "cell_type": "code",
   "execution_count": 90,
   "id": "b5f907b0",
   "metadata": {},
   "outputs": [],
   "source": [
    "#x_test"
   ]
  },
  {
   "cell_type": "code",
   "execution_count": 89,
   "id": "392c2080",
   "metadata": {},
   "outputs": [],
   "source": [
    "#y_test"
   ]
  },
  {
   "cell_type": "code",
   "execution_count": 88,
   "id": "054cf25f",
   "metadata": {
    "scrolled": true
   },
   "outputs": [],
   "source": [
    "#y_train"
   ]
  },
  {
   "cell_type": "markdown",
   "id": "429d8f98",
   "metadata": {},
   "source": [
    "## Build a linear regression model"
   ]
  },
  {
   "cell_type": "code",
   "execution_count": 94,
   "id": "77f1f0e3",
   "metadata": {},
   "outputs": [
    {
     "data": {
      "text/plain": [
       "LinearRegression()"
      ]
     },
     "execution_count": 94,
     "metadata": {},
     "output_type": "execute_result"
    }
   ],
   "source": [
    "M_reg_model = LinearRegression()\n",
    "\n",
    "M_reg_model.fit(x_train,y_train) # Model learning phase using training dataset"
   ]
  },
  {
   "cell_type": "markdown",
   "id": "dfd65344",
   "metadata": {},
   "source": [
    "## Model coefficient (slop/m) and y-intercept (c) "
   ]
  },
  {
   "cell_type": "code",
   "execution_count": 95,
   "id": "dfe75f36",
   "metadata": {},
   "outputs": [
    {
     "data": {
      "text/plain": [
       "array([-0.88712272,  1.175452  , -0.11610477,  0.9549459 , -1.98781429,\n",
       "        3.1067488 , -0.39245347, -3.18778152,  2.28873011, -1.82529057,\n",
       "       -1.84545771,  0.82059585, -2.89878976])"
      ]
     },
     "execution_count": 95,
     "metadata": {},
     "output_type": "execute_result"
    }
   ],
   "source": [
    "M_reg_model.coef_  # slop (m)"
   ]
  },
  {
   "cell_type": "code",
   "execution_count": 96,
   "id": "85be5274",
   "metadata": {
    "scrolled": true
   },
   "outputs": [
    {
     "data": {
      "text/plain": [
       "22.50722857528611"
      ]
     },
     "execution_count": 96,
     "metadata": {},
     "output_type": "execute_result"
    }
   ],
   "source": [
    "M_reg_model.intercept_ # y-intercept (c)"
   ]
  },
  {
   "cell_type": "markdown",
   "id": "0657de7d",
   "metadata": {},
   "source": [
    "# Prediction of dependent variable (y) "
   ]
  },
  {
   "cell_type": "markdown",
   "id": "d471b681",
   "metadata": {},
   "source": [
    "## For training dataset"
   ]
  },
  {
   "cell_type": "code",
   "execution_count": 98,
   "id": "6cd17d4a",
   "metadata": {},
   "outputs": [],
   "source": [
    "predy_train=M_reg_model.predict(x_train)"
   ]
  },
  {
   "cell_type": "code",
   "execution_count": 102,
   "id": "d6d7cb4c",
   "metadata": {},
   "outputs": [],
   "source": [
    "#predy_train # prediction of 22 entries of training dataset"
   ]
  },
  {
   "cell_type": "markdown",
   "id": "8f8e001f",
   "metadata": {},
   "source": [
    "## For testing dataset"
   ]
  },
  {
   "cell_type": "code",
   "execution_count": 103,
   "id": "2f3bb7d7",
   "metadata": {},
   "outputs": [],
   "source": [
    "predy_test=M_reg_model.predict(x_test)"
   ]
  },
  {
   "cell_type": "code",
   "execution_count": 107,
   "id": "fe5f6c66",
   "metadata": {
    "scrolled": true
   },
   "outputs": [],
   "source": [
    "#predy_test # prediction of 8 entries of testing dataset"
   ]
  },
  {
   "cell_type": "markdown",
   "id": "a6977b75",
   "metadata": {},
   "source": [
    "## For all dataset"
   ]
  },
  {
   "cell_type": "code",
   "execution_count": 117,
   "id": "f39bf404",
   "metadata": {},
   "outputs": [],
   "source": [
    "predy=M_reg_model.predict(x_scaled)   # use the standardize feature value"
   ]
  },
  {
   "cell_type": "code",
   "execution_count": 116,
   "id": "927603df",
   "metadata": {
    "scrolled": true
   },
   "outputs": [],
   "source": [
    "#predy # prediction of all 30 entries"
   ]
  },
  {
   "cell_type": "markdown",
   "id": "19a66c72",
   "metadata": {},
   "source": [
    "### 10 entries of actual (test value) and predicted (test value)  values of model "
   ]
  },
  {
   "cell_type": "code",
   "execution_count": 130,
   "id": "539175b4",
   "metadata": {
    "scrolled": true
   },
   "outputs": [
    {
     "data": {
      "text/html": [
       "<div>\n",
       "<style scoped>\n",
       "    .dataframe tbody tr th:only-of-type {\n",
       "        vertical-align: middle;\n",
       "    }\n",
       "\n",
       "    .dataframe tbody tr th {\n",
       "        vertical-align: top;\n",
       "    }\n",
       "\n",
       "    .dataframe thead th {\n",
       "        text-align: right;\n",
       "    }\n",
       "</style>\n",
       "<table border=\"1\" class=\"dataframe\">\n",
       "  <thead>\n",
       "    <tr style=\"text-align: right;\">\n",
       "      <th></th>\n",
       "      <th>Actual</th>\n",
       "      <th>Predicted</th>\n",
       "    </tr>\n",
       "  </thead>\n",
       "  <tbody>\n",
       "    <tr>\n",
       "      <th>488</th>\n",
       "      <td>15.2</td>\n",
       "      <td>11.798864</td>\n",
       "    </tr>\n",
       "    <tr>\n",
       "      <th>128</th>\n",
       "      <td>18.0</td>\n",
       "      <td>19.007242</td>\n",
       "    </tr>\n",
       "    <tr>\n",
       "      <th>191</th>\n",
       "      <td>30.5</td>\n",
       "      <td>30.155699</td>\n",
       "    </tr>\n",
       "    <tr>\n",
       "      <th>53</th>\n",
       "      <td>23.4</td>\n",
       "      <td>23.816257</td>\n",
       "    </tr>\n",
       "    <tr>\n",
       "      <th>388</th>\n",
       "      <td>10.2</td>\n",
       "      <td>7.005349</td>\n",
       "    </tr>\n",
       "    <tr>\n",
       "      <th>242</th>\n",
       "      <td>22.2</td>\n",
       "      <td>24.012905</td>\n",
       "    </tr>\n",
       "    <tr>\n",
       "      <th>29</th>\n",
       "      <td>21.0</td>\n",
       "      <td>21.021584</td>\n",
       "    </tr>\n",
       "    <tr>\n",
       "      <th>486</th>\n",
       "      <td>19.1</td>\n",
       "      <td>19.218417</td>\n",
       "    </tr>\n",
       "    <tr>\n",
       "      <th>257</th>\n",
       "      <td>50.0</td>\n",
       "      <td>43.382949</td>\n",
       "    </tr>\n",
       "    <tr>\n",
       "      <th>476</th>\n",
       "      <td>16.7</td>\n",
       "      <td>20.624139</td>\n",
       "    </tr>\n",
       "  </tbody>\n",
       "</table>\n",
       "</div>"
      ],
      "text/plain": [
       "     Actual  Predicted\n",
       "488    15.2  11.798864\n",
       "128    18.0  19.007242\n",
       "191    30.5  30.155699\n",
       "53     23.4  23.816257\n",
       "388    10.2   7.005349\n",
       "242    22.2  24.012905\n",
       "29     21.0  21.021584\n",
       "486    19.1  19.218417\n",
       "257    50.0  43.382949\n",
       "476    16.7  20.624139"
      ]
     },
     "execution_count": 130,
     "metadata": {},
     "output_type": "execute_result"
    }
   ],
   "source": [
    "df1 = pd.DataFrame({'Actual': y_test, 'Predicted':predy_test})\n",
    "df2 = df1.head(10)\n",
    "df2"
   ]
  },
  {
   "cell_type": "markdown",
   "id": "823758cb",
   "metadata": {},
   "source": [
    "### 10 entries of actual (train value) and predicted (train value)  values of model "
   ]
  },
  {
   "cell_type": "code",
   "execution_count": 133,
   "id": "0c841a21",
   "metadata": {},
   "outputs": [
    {
     "data": {
      "text/html": [
       "<div>\n",
       "<style scoped>\n",
       "    .dataframe tbody tr th:only-of-type {\n",
       "        vertical-align: middle;\n",
       "    }\n",
       "\n",
       "    .dataframe tbody tr th {\n",
       "        vertical-align: top;\n",
       "    }\n",
       "\n",
       "    .dataframe thead th {\n",
       "        text-align: right;\n",
       "    }\n",
       "</style>\n",
       "<table border=\"1\" class=\"dataframe\">\n",
       "  <thead>\n",
       "    <tr style=\"text-align: right;\">\n",
       "      <th></th>\n",
       "      <th>Actual</th>\n",
       "      <th>Predicted</th>\n",
       "    </tr>\n",
       "  </thead>\n",
       "  <tbody>\n",
       "    <tr>\n",
       "      <th>227</th>\n",
       "      <td>31.6</td>\n",
       "      <td>31.851987</td>\n",
       "    </tr>\n",
       "    <tr>\n",
       "      <th>382</th>\n",
       "      <td>11.3</td>\n",
       "      <td>13.522184</td>\n",
       "    </tr>\n",
       "    <tr>\n",
       "      <th>23</th>\n",
       "      <td>14.5</td>\n",
       "      <td>14.171578</td>\n",
       "    </tr>\n",
       "    <tr>\n",
       "      <th>348</th>\n",
       "      <td>24.5</td>\n",
       "      <td>27.678742</td>\n",
       "    </tr>\n",
       "    <tr>\n",
       "      <th>157</th>\n",
       "      <td>41.3</td>\n",
       "      <td>31.732625</td>\n",
       "    </tr>\n",
       "    <tr>\n",
       "      <th>413</th>\n",
       "      <td>16.3</td>\n",
       "      <td>11.338395</td>\n",
       "    </tr>\n",
       "    <tr>\n",
       "      <th>415</th>\n",
       "      <td>7.2</td>\n",
       "      <td>11.013084</td>\n",
       "    </tr>\n",
       "    <tr>\n",
       "      <th>204</th>\n",
       "      <td>50.0</td>\n",
       "      <td>43.627903</td>\n",
       "    </tr>\n",
       "    <tr>\n",
       "      <th>116</th>\n",
       "      <td>21.2</td>\n",
       "      <td>23.208977</td>\n",
       "    </tr>\n",
       "    <tr>\n",
       "      <th>83</th>\n",
       "      <td>22.9</td>\n",
       "      <td>24.821987</td>\n",
       "    </tr>\n",
       "  </tbody>\n",
       "</table>\n",
       "</div>"
      ],
      "text/plain": [
       "     Actual  Predicted\n",
       "227    31.6  31.851987\n",
       "382    11.3  13.522184\n",
       "23     14.5  14.171578\n",
       "348    24.5  27.678742\n",
       "157    41.3  31.732625\n",
       "413    16.3  11.338395\n",
       "415     7.2  11.013084\n",
       "204    50.0  43.627903\n",
       "116    21.2  23.208977\n",
       "83     22.9  24.821987"
      ]
     },
     "execution_count": 133,
     "metadata": {},
     "output_type": "execute_result"
    }
   ],
   "source": [
    "df1 = pd.DataFrame({'Actual': y_train, 'Predicted':predy_train})\n",
    "df2 = df1.head(10)\n",
    "df2"
   ]
  },
  {
   "cell_type": "markdown",
   "id": "c23259ac",
   "metadata": {},
   "source": [
    "Loss/cost function calculation"
   ]
  },
  {
   "cell_type": "code",
   "execution_count": 118,
   "id": "8c09f821",
   "metadata": {},
   "outputs": [
    {
     "data": {
      "text/plain": [
       "2849178.0038401573"
      ]
     },
     "execution_count": 118,
     "metadata": {},
     "output_type": "execute_result"
    }
   ],
   "source": [
    "loss_fun_reg=sum((predy-y)**2)/2*len(y)\n",
    "loss_fun_reg"
   ]
  },
  {
   "cell_type": "markdown",
   "id": "34ae76e5",
   "metadata": {},
   "source": [
    "# Model Accuracy"
   ]
  },
  {
   "cell_type": "markdown",
   "id": "c1a17c48",
   "metadata": {},
   "source": [
    "## Model training accuracy using .score method"
   ]
  },
  {
   "cell_type": "code",
   "execution_count": 119,
   "id": "70f9e687",
   "metadata": {},
   "outputs": [
    {
     "data": {
      "text/plain": [
       "0.730647531347494"
      ]
     },
     "execution_count": 119,
     "metadata": {},
     "output_type": "execute_result"
    }
   ],
   "source": [
    "train_acc=M_reg_model.score(x_train,y_train)\n",
    "train_acc"
   ]
  },
  {
   "cell_type": "markdown",
   "id": "ca7fd7aa",
   "metadata": {},
   "source": [
    "## Model testing accuracy using .score method"
   ]
  },
  {
   "cell_type": "code",
   "execution_count": 120,
   "id": "d08847e7",
   "metadata": {},
   "outputs": [
    {
     "data": {
      "text/plain": [
       "0.7519030329262334"
      ]
     },
     "execution_count": 120,
     "metadata": {},
     "output_type": "execute_result"
    }
   ],
   "source": [
    "test_acc=M_reg_model.score(x_test,y_test)\n",
    "test_acc"
   ]
  },
  {
   "cell_type": "markdown",
   "id": "5433fd2d",
   "metadata": {},
   "source": [
    "## Model training accuracy using R square method"
   ]
  },
  {
   "cell_type": "code",
   "execution_count": 121,
   "id": "f272b2ef",
   "metadata": {},
   "outputs": [
    {
     "data": {
      "text/plain": [
       "0.730647531347494"
      ]
     },
     "execution_count": 121,
     "metadata": {},
     "output_type": "execute_result"
    }
   ],
   "source": [
    "r_squared_train=r2_score(y_train, predy_train)\n",
    "r_squared_train"
   ]
  },
  {
   "cell_type": "markdown",
   "id": "36fc12e3",
   "metadata": {},
   "source": [
    "## Model testing accuracy using R square method"
   ]
  },
  {
   "cell_type": "code",
   "execution_count": 122,
   "id": "7ab29cef",
   "metadata": {},
   "outputs": [
    {
     "data": {
      "text/plain": [
       "0.7519030329262334"
      ]
     },
     "execution_count": 122,
     "metadata": {},
     "output_type": "execute_result"
    }
   ],
   "source": [
    "r_squared_test=r2_score(y_test, predy_test)\n",
    "r_squared_test"
   ]
  },
  {
   "cell_type": "markdown",
   "id": "09026851",
   "metadata": {},
   "source": [
    "## Model training accuracy using Adjusted R square method"
   ]
  },
  {
   "cell_type": "code",
   "execution_count": 124,
   "id": "c5538a18",
   "metadata": {},
   "outputs": [
    {
     "data": {
      "text/plain": [
       "0.7235304945741555"
      ]
     },
     "execution_count": 124,
     "metadata": {},
     "output_type": "execute_result"
    }
   ],
   "source": [
    "adjusted_r_squared_train= 1 - (1-r_squared_train)*(len(y)-1)/(len(y)-x.shape[1]-1)\n",
    "adjusted_r_squared_train"
   ]
  },
  {
   "cell_type": "markdown",
   "id": "53675877",
   "metadata": {},
   "source": [
    "## Model testing accuracy using Adjusted R square method"
   ]
  },
  {
   "cell_type": "code",
   "execution_count": 125,
   "id": "1d9558a2",
   "metadata": {},
   "outputs": [
    {
     "data": {
      "text/plain": [
       "0.74534762525965"
      ]
     },
     "execution_count": 125,
     "metadata": {},
     "output_type": "execute_result"
    }
   ],
   "source": [
    "adjusted_r_squared_test= 1 - (1-r_squared_test)*(len(y)-1)/(len(y)-x.shape[1]-1)\n",
    "adjusted_r_squared_test"
   ]
  },
  {
   "cell_type": "markdown",
   "id": "b544fb4a",
   "metadata": {},
   "source": [
    "## MSE & RMSE values for training dataset"
   ]
  },
  {
   "cell_type": "code",
   "execution_count": 126,
   "id": "abdec0db",
   "metadata": {},
   "outputs": [
    {
     "data": {
      "text/plain": [
       "22.282092126271717"
      ]
     },
     "execution_count": 126,
     "metadata": {},
     "output_type": "execute_result"
    }
   ],
   "source": [
    "mse_train=mean_squared_error(y_train,predy_train)\n",
    "mse_train"
   ]
  },
  {
   "cell_type": "code",
   "execution_count": 127,
   "id": "55018d98",
   "metadata": {},
   "outputs": [
    {
     "data": {
      "text/plain": [
       "4.720391098867944"
      ]
     },
     "execution_count": 127,
     "metadata": {},
     "output_type": "execute_result"
    }
   ],
   "source": [
    "rmse_train=sqrt(mse_train)\n",
    "rmse_train"
   ]
  },
  {
   "cell_type": "markdown",
   "id": "0a4d0107",
   "metadata": {},
   "source": [
    "## MSE & RMSE values for testing dataset"
   ]
  },
  {
   "cell_type": "code",
   "execution_count": 128,
   "id": "df63d6b9",
   "metadata": {},
   "outputs": [
    {
     "data": {
      "text/plain": [
       "22.17842694370991"
      ]
     },
     "execution_count": 128,
     "metadata": {},
     "output_type": "execute_result"
    }
   ],
   "source": [
    "mse_test=mean_squared_error(y_test,predy_test)\n",
    "mse_test"
   ]
  },
  {
   "cell_type": "code",
   "execution_count": 129,
   "id": "53243787",
   "metadata": {
    "scrolled": true
   },
   "outputs": [
    {
     "data": {
      "text/plain": [
       "4.70939772621828"
      ]
     },
     "execution_count": 129,
     "metadata": {},
     "output_type": "execute_result"
    }
   ],
   "source": [
    "rmse_test=sqrt(mse_test)\n",
    "rmse_test"
   ]
  },
  {
   "cell_type": "markdown",
   "id": "7861b59f",
   "metadata": {},
   "source": [
    "## Evaluation\n",
    "\n",
    "### Training Accuracy\n",
    "     1. Using .score methode: 73%\n",
    "     2. Using R square methode: 73%\n",
    "     3. Using Adjusted R square methode: 72%\n",
    "     \n",
    "### Testing Accuracy\n",
    "     1. Using .score methode: 75%\n",
    "     2. Using R square methode: 75% \n",
    "     3. Using Adjusted R square methode: 74%\n",
    "\n",
    "### Training MSE & RMSE\n",
    "     1. MSE:  22.28\n",
    "     2. RMSE: 4.72\n",
    "    \n",
    "### Testing MSE & RMSE\n",
    "     1. MSE:  22.17\n",
    "     2. RMSE: 4.71\n",
    "\n",
    "\n",
    "    1. R squared and Adjusted R squared are more or like same, i.e. all the considered features used for the prediction are relevant \n",
    "    2. Adjusted R squared can be used for relevent feature selection"
   ]
  },
  {
   "cell_type": "markdown",
   "id": "3becfcd9",
   "metadata": {},
   "source": [
    "## Saving the linear regression model in local drive"
   ]
  },
  {
   "cell_type": "code",
   "execution_count": 170,
   "id": "7e9ffb80",
   "metadata": {},
   "outputs": [],
   "source": [
    "filename=\"mlr_boston.pk\"\n",
    "pk.dump(M_reg_model,open(filename,\"wb\"))"
   ]
  },
  {
   "cell_type": "markdown",
   "id": "7d7a55b5",
   "metadata": {},
   "source": [
    "# Regularization\n",
    "\n",
    "    Regularization is used to reduce the overfitting (effect of overfitting) using hyperparameter tunning method"
   ]
  },
  {
   "cell_type": "markdown",
   "id": "b2822c6c",
   "metadata": {},
   "source": [
    "## Lasso (L1) Regression\n",
    "\n",
    "\n",
    "    Uses existing loss function + alpha * (m) for reducing the overfitting  "
   ]
  },
  {
   "cell_type": "code",
   "execution_count": 142,
   "id": "22d86ac6",
   "metadata": {
    "scrolled": true
   },
   "outputs": [
    {
     "name": "stderr",
     "output_type": "stream",
     "text": [
      "C:\\Users\\dell\\anaconda3\\envs\\PY38\\lib\\site-packages\\sklearn\\linear_model\\_coordinate_descent.py:645: ConvergenceWarning: Objective did not converge. You might want to increase the number of iterations, check the scale of the features or consider increasing regularisation. Duality gap: 4.431e+03, tolerance: 3.919e+00\n",
      "  model = cd_fast.enet_coordinate_descent(\n",
      "C:\\Users\\dell\\anaconda3\\envs\\PY38\\lib\\site-packages\\sklearn\\linear_model\\_coordinate_descent.py:645: ConvergenceWarning: Objective did not converge. You might want to increase the number of iterations, check the scale of the features or consider increasing regularisation. Duality gap: 4.397e+03, tolerance: 3.307e+00\n",
      "  model = cd_fast.enet_coordinate_descent(\n",
      "C:\\Users\\dell\\anaconda3\\envs\\PY38\\lib\\site-packages\\sklearn\\linear_model\\_coordinate_descent.py:645: ConvergenceWarning: Objective did not converge. You might want to increase the number of iterations, check the scale of the features or consider increasing regularisation. Duality gap: 3.797e+03, tolerance: 2.814e+00\n",
      "  model = cd_fast.enet_coordinate_descent(\n",
      "C:\\Users\\dell\\anaconda3\\envs\\PY38\\lib\\site-packages\\sklearn\\linear_model\\_coordinate_descent.py:645: ConvergenceWarning: Objective did not converge. You might want to increase the number of iterations, check the scale of the features or consider increasing regularisation. Duality gap: 2.564e+03, tolerance: 3.307e+00\n",
      "  model = cd_fast.enet_coordinate_descent(\n",
      "C:\\Users\\dell\\anaconda3\\envs\\PY38\\lib\\site-packages\\sklearn\\linear_model\\_coordinate_descent.py:645: ConvergenceWarning: Objective did not converge. You might want to increase the number of iterations, check the scale of the features or consider increasing regularisation. Duality gap: 4.294e+03, tolerance: 3.481e+00\n",
      "  model = cd_fast.enet_coordinate_descent(\n"
     ]
    },
    {
     "name": "stdout",
     "output_type": "stream",
     "text": [
      "Best value of hyperparameter (alpha/lambda) is: {'alpha': 0.33}\n",
      "MSE value for best hyperparameter is: -34.44114847278197\n"
     ]
    }
   ],
   "source": [
    "# Import libraries\n",
    "from sklearn.linear_model import Lasso\n",
    "from sklearn.model_selection import GridSearchCV\n",
    "\n",
    "# Use l1 regression for model\n",
    "lasso=Lasso()\n",
    "\n",
    "# hyperparameter values (lambda or alpha)\n",
    "parameters={'alpha':[1e-15,1e-10,1e-8,1e-3,1e-2,1,5,10,20,30,35,40,45,50,55,100,200,300,1.1,0.9,0.8,0.7,0.5,0.4,0.3,0.2,0.33]}\n",
    "\n",
    "# Cross validation using hyperparameter with k=5 \n",
    "lasso_regressor=GridSearchCV(lasso,parameters,scoring='neg_mean_squared_error',cv=5)\n",
    "\n",
    "# fit the model using lasso regression for best lambda calculation \n",
    "lasso_regressor.fit(x,y)\n",
    "\n",
    "\n",
    "print(f'Best value of hyperparameter (alpha/lambda) is: {lasso_regressor.best_params_}')\n",
    "print(f'MSE value for best hyperparameter is: {lasso_regressor.best_score_}')"
   ]
  },
  {
   "cell_type": "markdown",
   "id": "2b747ecc",
   "metadata": {},
   "source": [
    "## Train the model using best alpha value "
   ]
  },
  {
   "cell_type": "code",
   "execution_count": 149,
   "id": "28bb8346",
   "metadata": {},
   "outputs": [
    {
     "data": {
      "text/plain": [
       "Lasso(alpha=0.33)"
      ]
     },
     "execution_count": 149,
     "metadata": {},
     "output_type": "execute_result"
    }
   ],
   "source": [
    "lasso_alpha=lasso_regressor.best_params_['alpha']\n",
    "lasso_reg = Lasso(lasso_alpha)\n",
    "lasso_reg.fit(x_train, y_train)"
   ]
  },
  {
   "cell_type": "markdown",
   "id": "999e5fb1",
   "metadata": {},
   "source": [
    "# Prediction of dependent variable (y) using Lasso regression"
   ]
  },
  {
   "cell_type": "markdown",
   "id": "34ee5de5",
   "metadata": {},
   "source": [
    "### For training dataset"
   ]
  },
  {
   "cell_type": "code",
   "execution_count": 159,
   "id": "c1e45dd8",
   "metadata": {},
   "outputs": [],
   "source": [
    "predy_train_lasso=lasso_reg.predict(x_train)\n",
    "#predy_train_lasso"
   ]
  },
  {
   "cell_type": "markdown",
   "id": "1b509819",
   "metadata": {},
   "source": [
    "### For testing dataset"
   ]
  },
  {
   "cell_type": "code",
   "execution_count": 164,
   "id": "5fadd2f7",
   "metadata": {},
   "outputs": [],
   "source": [
    "predy_test_lasso=lasso_reg.predict(x_test)\n",
    "#predy_test_lasso"
   ]
  },
  {
   "cell_type": "markdown",
   "id": "da2f41cf",
   "metadata": {},
   "source": [
    "### For entire dataset"
   ]
  },
  {
   "cell_type": "code",
   "execution_count": 169,
   "id": "a6799d34",
   "metadata": {},
   "outputs": [],
   "source": [
    "predy_lasso=lasso_reg.predict(x_scaled)  \n",
    "#predy_lasso"
   ]
  },
  {
   "cell_type": "markdown",
   "id": "05667b64",
   "metadata": {},
   "source": [
    "# Model Accuracy using Lasso Regression"
   ]
  },
  {
   "cell_type": "markdown",
   "id": "88ae932a",
   "metadata": {},
   "source": [
    "## Training accuracy using .score"
   ]
  },
  {
   "cell_type": "code",
   "execution_count": 171,
   "id": "301bb4ab",
   "metadata": {},
   "outputs": [
    {
     "data": {
      "text/plain": [
       "0.6992415211153435"
      ]
     },
     "execution_count": 171,
     "metadata": {},
     "output_type": "execute_result"
    }
   ],
   "source": [
    "lasso_r_sq_train=lasso_reg.score(x_train,y_train)\n",
    "lasso_r_sq_train"
   ]
  },
  {
   "cell_type": "markdown",
   "id": "480896ee",
   "metadata": {},
   "source": [
    "## Testing accuracy using .score"
   ]
  },
  {
   "cell_type": "code",
   "execution_count": 172,
   "id": "59f49b15",
   "metadata": {},
   "outputs": [
    {
     "data": {
      "text/plain": [
       "0.713231276718937"
      ]
     },
     "execution_count": 172,
     "metadata": {},
     "output_type": "execute_result"
    }
   ],
   "source": [
    "lasso_r_sq_test=lasso_reg.score(x_test,y_test)\n",
    "lasso_r_sq_test"
   ]
  },
  {
   "cell_type": "markdown",
   "id": "c5c91f46",
   "metadata": {},
   "source": [
    "## Training accuracy using Adjusted R squared"
   ]
  },
  {
   "cell_type": "code",
   "execution_count": 173,
   "id": "5f47a38f",
   "metadata": {},
   "outputs": [
    {
     "data": {
      "text/plain": [
       "0.69129465073831"
      ]
     },
     "execution_count": 173,
     "metadata": {},
     "output_type": "execute_result"
    }
   ],
   "source": [
    "lasso_adjusted_r_squared_train= 1 - (1-lasso_r_sq_train)*(len(y)-1)/(len(y)-x.shape[1]-1)\n",
    "lasso_adjusted_r_squared_train"
   ]
  },
  {
   "cell_type": "markdown",
   "id": "24bac8d6",
   "metadata": {},
   "source": [
    "## Testing accuracy using Adjusted R squared"
   ]
  },
  {
   "cell_type": "code",
   "execution_count": 174,
   "id": "8c1b70a9",
   "metadata": {},
   "outputs": [
    {
     "data": {
      "text/plain": [
       "0.7056540543558196"
      ]
     },
     "execution_count": 174,
     "metadata": {},
     "output_type": "execute_result"
    }
   ],
   "source": [
    "lasso_adjusted_r_squared_test= 1 - (1-lasso_r_sq_test)*(len(y)-1)/(len(y)-x.shape[1]-1)\n",
    "lasso_adjusted_r_squared_test"
   ]
  },
  {
   "cell_type": "markdown",
   "id": "3028922c",
   "metadata": {},
   "source": [
    "## MSE & RMSE values for training dataset using Lasso regression"
   ]
  },
  {
   "cell_type": "code",
   "execution_count": 175,
   "id": "f2bc5497",
   "metadata": {},
   "outputs": [
    {
     "data": {
      "text/plain": [
       "24.880143730596235"
      ]
     },
     "execution_count": 175,
     "metadata": {},
     "output_type": "execute_result"
    }
   ],
   "source": [
    "mse_train_lasso=mean_squared_error(y_train,predy_train_lasso)\n",
    "mse_train_lasso"
   ]
  },
  {
   "cell_type": "code",
   "execution_count": 177,
   "id": "e704362d",
   "metadata": {},
   "outputs": [
    {
     "data": {
      "text/plain": [
       "4.987999972994811"
      ]
     },
     "execution_count": 177,
     "metadata": {},
     "output_type": "execute_result"
    }
   ],
   "source": [
    "rmse_train_lasso=sqrt(mse_train_lasso)\n",
    "rmse_train_lasso"
   ]
  },
  {
   "cell_type": "markdown",
   "id": "d3bfa7d7",
   "metadata": {},
   "source": [
    "## MSE & RMSE values for testing dataset using Lasso regression"
   ]
  },
  {
   "cell_type": "code",
   "execution_count": 176,
   "id": "67c6cb54",
   "metadata": {},
   "outputs": [
    {
     "data": {
      "text/plain": [
       "25.63545719258623"
      ]
     },
     "execution_count": 176,
     "metadata": {},
     "output_type": "execute_result"
    }
   ],
   "source": [
    "mse_test_lasso=mean_squared_error(y_test,predy_test_lasso)\n",
    "mse_test_lasso"
   ]
  },
  {
   "cell_type": "code",
   "execution_count": 178,
   "id": "18166a72",
   "metadata": {},
   "outputs": [
    {
     "data": {
      "text/plain": [
       "5.063146965335514"
      ]
     },
     "execution_count": 178,
     "metadata": {},
     "output_type": "execute_result"
    }
   ],
   "source": [
    "rmse_test_lasso=sqrt(mse_test_lasso)\n",
    "rmse_test_lasso"
   ]
  },
  {
   "cell_type": "markdown",
   "id": "12dcb66c",
   "metadata": {},
   "source": [
    "## Evaluation of Lasso Regression\n",
    "\n",
    "### Training Accuracy\n",
    "     1. Using .score methode: 69.92%\n",
    "     2. Using Adjusted R square methode: 69.12%\n",
    "     \n",
    "### Testing Accuracy\n",
    "     1. Using .score methode: 71.32%\n",
    "     2. Using Adjusted R square methode: 70.56%\n",
    "\n",
    "### Training MSE & RMSE\n",
    "     1. MSE:  24.88\n",
    "     2. RMSE: 4.98\n",
    "    \n",
    "### Testing MSE & RMSE\n",
    "     1. MSE:  25.63\n",
    "     2. RMSE: 5.06"
   ]
  },
  {
   "cell_type": "markdown",
   "id": "169d0bf1",
   "metadata": {},
   "source": [
    "## Saving the lasso linear regression model in local drive"
   ]
  },
  {
   "cell_type": "code",
   "execution_count": 194,
   "id": "da078c41",
   "metadata": {},
   "outputs": [],
   "source": [
    "filename=\"mlr_boston_lasso.pk\"\n",
    "pk.dump(lasso_reg,open(filename,\"wb\"))"
   ]
  },
  {
   "cell_type": "markdown",
   "id": "a81f8768",
   "metadata": {},
   "source": [
    "# Ridge(L2) Regression\n",
    "\n",
    "     Uses existing loss function + alpha * (m^2) for reducing the overfitting "
   ]
  },
  {
   "cell_type": "code",
   "execution_count": 180,
   "id": "e984f39a",
   "metadata": {
    "scrolled": true
   },
   "outputs": [
    {
     "name": "stdout",
     "output_type": "stream",
     "text": [
      "Best value of hyperparameter (alpha/lambda) is: {'alpha': 205}\n",
      "MSE value for best hyperparameter is: -29.842633670826796\n"
     ]
    }
   ],
   "source": [
    "# Import libraries\n",
    "from sklearn.linear_model import Ridge\n",
    "from sklearn.model_selection import GridSearchCV\n",
    "\n",
    "# Use l2 regression for model\n",
    "ridge=Ridge()\n",
    "\n",
    "# hyperparameter values (lambda or alpha)\n",
    "parameters={'alpha':[1e-15,1e-10,1e-8,1e-3,1e-2,1,5,10,20,30,35,40,45,50,55,100,101,220,219,215,210,207,208,206,205]}\n",
    "\n",
    "# Cross validation using hyperparameter with k=5 \n",
    "ridge_regressor=GridSearchCV(ridge,parameters,scoring='neg_mean_squared_error',cv=5)\n",
    "\n",
    "# fit the model using lasso regression for best lambda calculation \n",
    "ridge_regressor.fit(x,y)\n",
    "\n",
    "\n",
    "print(f'Best value of hyperparameter (alpha/lambda) is: {ridge_regressor.best_params_}')\n",
    "print(f'MSE value for best hyperparameter is: {ridge_regressor.best_score_}')\n"
   ]
  },
  {
   "cell_type": "markdown",
   "id": "4afab0d2",
   "metadata": {},
   "source": [
    "# Train model using best alpha value"
   ]
  },
  {
   "cell_type": "code",
   "execution_count": 187,
   "id": "cd5f28b6",
   "metadata": {},
   "outputs": [
    {
     "data": {
      "text/plain": [
       "Ridge(alpha=205)"
      ]
     },
     "execution_count": 187,
     "metadata": {},
     "output_type": "execute_result"
    }
   ],
   "source": [
    "Ridge_alpha=ridge_regressor.best_params_['alpha']\n",
    "ridge_reg = Ridge(Ridge_alpha)\n",
    "ridge_reg.fit(x_train, y_train)"
   ]
  },
  {
   "cell_type": "markdown",
   "id": "7ce29f4d",
   "metadata": {},
   "source": [
    "# Model Accuracy using Ridge Regression"
   ]
  },
  {
   "cell_type": "code",
   "execution_count": 193,
   "id": "1ef7d338",
   "metadata": {},
   "outputs": [],
   "source": [
    "# User defined function for adjusted r squared\n",
    "\n",
    "def adj_r2(x,y,model):\n",
    "    r2 = model.score(x,y)\n",
    "    n = x.shape[0]\n",
    "    p = x.shape[1]\n",
    "    adjusted_r2 = 1-(1-r2)*(n-1)/(n-p-1)\n",
    "    return adjusted_r2"
   ]
  },
  {
   "cell_type": "markdown",
   "id": "baa71fba",
   "metadata": {},
   "source": [
    "## .score and adjusted R squared for training dataset"
   ]
  },
  {
   "cell_type": "code",
   "execution_count": 189,
   "id": "6da8304e",
   "metadata": {},
   "outputs": [
    {
     "data": {
      "text/plain": [
       "0.676831894736837"
      ]
     },
     "execution_count": 189,
     "metadata": {},
     "output_type": "execute_result"
    }
   ],
   "source": [
    "ridge_r_sq_train=ridge_reg.score(x_train,y_train)\n",
    "ridge_r_sq_train"
   ]
  },
  {
   "cell_type": "code",
   "execution_count": 190,
   "id": "dad96c6d",
   "metadata": {},
   "outputs": [
    {
     "data": {
      "text/plain": [
       "0.6653217978370531"
      ]
     },
     "execution_count": 190,
     "metadata": {},
     "output_type": "execute_result"
    }
   ],
   "source": [
    "adj_r2(x_train,y_train,ridge_reg)"
   ]
  },
  {
   "cell_type": "markdown",
   "id": "4330a8a0",
   "metadata": {},
   "source": [
    "## .score and adjusted R squared for testing dataset"
   ]
  },
  {
   "cell_type": "code",
   "execution_count": 191,
   "id": "f1853e49",
   "metadata": {},
   "outputs": [
    {
     "data": {
      "text/plain": [
       "0.6687725200628489"
      ]
     },
     "execution_count": 191,
     "metadata": {},
     "output_type": "execute_result"
    }
   ],
   "source": [
    "ridge_r_sq_test=ridge_reg.score(x_test,y_test)\n",
    "ridge_r_sq_test"
   ]
  },
  {
   "cell_type": "code",
   "execution_count": 192,
   "id": "c6513a62",
   "metadata": {
    "scrolled": true
   },
   "outputs": [
    {
     "data": {
      "text/plain": [
       "0.6306667037868935"
      ]
     },
     "execution_count": 192,
     "metadata": {},
     "output_type": "execute_result"
    }
   ],
   "source": [
    "adj_r2(x_test,y_test,ridge_reg)"
   ]
  },
  {
   "cell_type": "markdown",
   "id": "af841c85",
   "metadata": {},
   "source": [
    "## Evaluation of Ridge Regression\n",
    "\n",
    "### Training Accuracy\n",
    "     1. Using .score methode: 67.68%\n",
    "     2. Using Adjusted R square methode: 66.53%\n",
    "     \n",
    "### Testing Accuracy\n",
    "     1. Using .score methode: 66.87%\n",
    "     2. Using Adjusted R square methode: 63.06%"
   ]
  },
  {
   "cell_type": "markdown",
   "id": "0cbe1d3b",
   "metadata": {},
   "source": [
    "## Saving the ridge linear regression model in local drive"
   ]
  },
  {
   "cell_type": "code",
   "execution_count": 196,
   "id": "c005d336",
   "metadata": {},
   "outputs": [],
   "source": [
    "filename=\"mlr_boston_ridge.pk\"\n",
    "pk.dump(ridge_reg,open(filename,\"wb\"))"
   ]
  },
  {
   "cell_type": "markdown",
   "id": "69a0882b",
   "metadata": {},
   "source": [
    "# Elastic Net (L3)\n",
    "\n",
    "     Uses both L1 and L2 regression method i.e.\n",
    "     existing loss function + alpha * (m) + alpha * (m^2) for reducing the overfitting "
   ]
  },
  {
   "cell_type": "code",
   "execution_count": 197,
   "id": "f84e17b2",
   "metadata": {},
   "outputs": [
    {
     "data": {
      "text/plain": [
       "ElasticNetCV(cv=5)"
      ]
     },
     "execution_count": 197,
     "metadata": {},
     "output_type": "execute_result"
    }
   ],
   "source": [
    "# Import library\n",
    "from sklearn.linear_model  import  ElasticNetCV\n",
    "\n",
    "# Select cross validation and alpha automatically\n",
    "elasticCV = ElasticNetCV(alphas = None, cv =5)\n",
    "\n",
    "# fit the model\n",
    "elasticCV.fit(x_train, y_train)"
   ]
  },
  {
   "cell_type": "code",
   "execution_count": 199,
   "id": "13c6af4c",
   "metadata": {},
   "outputs": [
    {
     "data": {
      "text/plain": [
       "0.024805870965008987"
      ]
     },
     "execution_count": 199,
     "metadata": {},
     "output_type": "execute_result"
    }
   ],
   "source": [
    "# Best value of alpha\n",
    "elastic_alpha=elasticCV.alpha_\n",
    "elastic_alpha"
   ]
  },
  {
   "cell_type": "markdown",
   "id": "a0141795",
   "metadata": {},
   "source": [
    "# Train the model using elastic net"
   ]
  },
  {
   "cell_type": "code",
   "execution_count": 200,
   "id": "e74b9ceb",
   "metadata": {},
   "outputs": [
    {
     "data": {
      "text/plain": [
       "ElasticNet(alpha=0.024805870965008987)"
      ]
     },
     "execution_count": 200,
     "metadata": {},
     "output_type": "execute_result"
    }
   ],
   "source": [
    "from sklearn.linear_model  import  ElasticNet\n",
    "elasticnet_reg = ElasticNet(alpha = elastic_alpha)\n",
    "elasticnet_reg.fit(x_train, y_train)"
   ]
  },
  {
   "cell_type": "markdown",
   "id": "03cdade9",
   "metadata": {},
   "source": [
    "# Model Accuracy using Elastic Net"
   ]
  },
  {
   "cell_type": "code",
   "execution_count": 201,
   "id": "4b8d4f13",
   "metadata": {},
   "outputs": [],
   "source": [
    "# User defined function for adjusted r squared\n",
    "\n",
    "def adj_r2(x,y,model):\n",
    "    r2 = model.score(x,y)\n",
    "    n = x.shape[0]\n",
    "    p = x.shape[1]\n",
    "    adjusted_r2 = 1-(1-r2)*(n-1)/(n-p-1)\n",
    "    return adjusted_r2"
   ]
  },
  {
   "cell_type": "markdown",
   "id": "16982fce",
   "metadata": {},
   "source": [
    "## .score and adjusted R squared for training dataset"
   ]
  },
  {
   "cell_type": "code",
   "execution_count": 202,
   "id": "37df0d4b",
   "metadata": {},
   "outputs": [
    {
     "data": {
      "text/plain": [
       "0.7299710330907252"
      ]
     },
     "execution_count": 202,
     "metadata": {},
     "output_type": "execute_result"
    }
   ],
   "source": [
    "elastic_r_sq_train=elasticnet_reg.score(x_train,y_train)\n",
    "elastic_r_sq_train"
   ]
  },
  {
   "cell_type": "code",
   "execution_count": 203,
   "id": "70d548da",
   "metadata": {},
   "outputs": [
    {
     "data": {
      "text/plain": [
       "0.7203535630364223"
      ]
     },
     "execution_count": 203,
     "metadata": {},
     "output_type": "execute_result"
    }
   ],
   "source": [
    "adj_r2(x_train,y_train,elasticnet_reg)"
   ]
  },
  {
   "cell_type": "markdown",
   "id": "31125dc8",
   "metadata": {},
   "source": [
    "## .score and adjusted R squared for testing dataset"
   ]
  },
  {
   "cell_type": "code",
   "execution_count": 204,
   "id": "62d7c5a3",
   "metadata": {},
   "outputs": [
    {
     "data": {
      "text/plain": [
       "0.7487551475558303"
      ]
     },
     "execution_count": 204,
     "metadata": {},
     "output_type": "execute_result"
    }
   ],
   "source": [
    "elastic_r_sq_test=elasticnet_reg.score(x_test,y_test)\n",
    "elastic_r_sq_test"
   ]
  },
  {
   "cell_type": "code",
   "execution_count": 205,
   "id": "424b19e5",
   "metadata": {
    "scrolled": true
   },
   "outputs": [
    {
     "data": {
      "text/plain": [
       "0.7198508724958815"
      ]
     },
     "execution_count": 205,
     "metadata": {},
     "output_type": "execute_result"
    }
   ],
   "source": [
    "adj_r2(x_test,y_test,elasticnet_reg)"
   ]
  },
  {
   "cell_type": "markdown",
   "id": "7c137633",
   "metadata": {},
   "source": [
    "## Evaluation of Ridge Regression\n",
    "\n",
    "### Training Accuracy\n",
    "     1. Using .score methode: 72.99%\n",
    "     2. Using Adjusted R square methode: 72.035%\n",
    "     \n",
    "### Testing Accuracy\n",
    "     1. Using .score methode: 74.87%\n",
    "     2. Using Adjusted R square methode: 71.98%"
   ]
  },
  {
   "cell_type": "markdown",
   "id": "6ef0fde0",
   "metadata": {},
   "source": [
    "## Saving the elastic net regression model in local drive"
   ]
  },
  {
   "cell_type": "code",
   "execution_count": 206,
   "id": "f2fc2be6",
   "metadata": {},
   "outputs": [],
   "source": [
    "filename=\"mlr_boston_elastic.pk\"\n",
    "pk.dump(elasticnet_reg,open(filename,\"wb\"))"
   ]
  },
  {
   "cell_type": "markdown",
   "id": "a148f877",
   "metadata": {},
   "source": [
    "# Observations\n",
    "\n",
    "    1. As we compare accuracy of multiple linear regression model with regularization i.e. Lasso, Ridge and Elatic net, later will be used to reduce the effect of overfitting\n",
    "    2. Following is the comparision;\n",
    "    \n",
    "       Model\t                 Training Accuracy (%)\t              Testing Accuracy (%)\n",
    "       \n",
    "\t                         .score method\tAdjusted R square\t.score method\tAdjusted R square\n",
    "    Linear Reg.\t                   73.06\t   72.35\t              75.19\t          74.53\n",
    "    Lasso\t                         69.92\t   69.12\t              71.32\t          70.56\n",
    "    Ridge \t                        67.68\t   66.53\t              66.87\t          63.06\n",
    "    Elastic Net\t                   72.99\t   72.04\t              74.87\t          71.98\n",
    "\n",
    "      3. As per the requirements, we can select the model with regularization.   \n",
    "      \n",
    "      \n",
    "      \n",
    "we can see by using different type of regularization, we are getting the somewhat different accuracy. That means our model has been overfit using the training data."
   ]
  },
  {
   "cell_type": "code",
   "execution_count": null,
   "id": "5b686d50",
   "metadata": {},
   "outputs": [],
   "source": []
  }
 ],
 "metadata": {
  "kernelspec": {
   "display_name": "Python 3",
   "language": "python",
   "name": "python3"
  },
  "language_info": {
   "codemirror_mode": {
    "name": "ipython",
    "version": 3
   },
   "file_extension": ".py",
   "mimetype": "text/x-python",
   "name": "python",
   "nbconvert_exporter": "python",
   "pygments_lexer": "ipython3",
   "version": "3.8.10"
  }
 },
 "nbformat": 4,
 "nbformat_minor": 5
}
